{
 "cells": [
  {
   "cell_type": "code",
   "execution_count": 3,
   "id": "cd9d85d7",
   "metadata": {
    "scrolled": true
   },
   "outputs": [
    {
     "name": "stdout",
     "output_type": "stream",
     "text": [
      "Generated URLs:\n",
      "https://fbref.com/en/comps/9/2018-2019/schedule/2018-2019-Premier-League-Scores-and-Fixtures\n",
      "https://fbref.com/en/comps/9/2019-2020/schedule/2019-2020-Premier-League-Scores-and-Fixtures\n",
      "https://fbref.com/en/comps/9/2020-2021/schedule/2020-2021-Premier-League-Scores-and-Fixtures\n",
      "https://fbref.com/en/comps/9/2021-2022/schedule/2021-2022-Premier-League-Scores-and-Fixtures\n",
      "https://fbref.com/en/comps/9/2022-2023/schedule/2022-2023-Premier-League-Scores-and-Fixtures\n",
      "https://fbref.com/en/comps/9/2023-2024/schedule/2023-2024-Premier-League-Scores-and-Fixtures\n"
     ]
    }
   ],
   "source": [
    "# File: 1_data_collection.ipynb\n",
    "\n",
    "# Import necessary libraries\n",
    "import requests  # For fetching HTML content\n",
    "from bs4 import BeautifulSoup  # For parsing HTML\n",
    "import pandas as pd  # For structuring data\n",
    "import os  # For managing file paths\n",
    "import time  # For adding delays between requests\n",
    "\n",
    "# Define seasons and generate URLs\n",
    "base_url = \"https://fbref.com/en/comps/9/{season}/schedule/{season}-Premier-League-Scores-and-Fixtures\"\n",
    "seasons = [\"2018-2019\", \"2019-2020\", \"2020-2021\", \"2021-2022\", \"2022-2023\", \"2023-2024\"]\n",
    "urls = [base_url.format(season=season) for season in seasons]\n",
    "\n",
    "# Print URLs to verify\n",
    "print(\"Generated URLs:\")\n",
    "for url in urls:\n",
    "    print(url)"
   ]
  },
  {
   "cell_type": "code",
   "execution_count": 4,
   "id": "af451f9c",
   "metadata": {},
   "outputs": [
    {
     "name": "stdout",
     "output_type": "stream",
     "text": [
      "Successfully fetched HTML content!\n",
      "First 500 characters of the HTML:\n",
      "    \n",
      "      \n",
      "<!DOCTYPE html>\n",
      "<html data-version=\"klecko-\" data-root=\"/home/fb/deploy/www/base\" lang=\"en\" class=\"no-js\" >\n",
      "<head>\n",
      "    <meta charset=\"utf-8\">\n",
      "    <meta http-equiv=\"x-ua-compatible\" content=\"ie=edge\">\n",
      "    <meta name=\"viewport\" content=\"width=device-width, initial-scale=1.0, maximum-scale=2.0\" />\n",
      "    <link rel=\"dns-prefetch\" href=\"https://cdn.ssref.net/req/202504030\" />\n",
      "<script>\n",
      "/* https://docs.osano.com/hc/en-us/articles/22469433444372-Google-Consent-Mode-v2  */\n",
      "  window.dataLayer = w\n"
     ]
    }
   ],
   "source": [
    "# Test fetching HTML content for one season\n",
    "test_url = urls[0]  # Use the first season's URL for testing\n",
    "response = requests.get(test_url)\n",
    "\n",
    "# Check if the request was successful\n",
    "if response.status_code == 200:\n",
    "    print(\"Successfully fetched HTML content!\")\n",
    "else:\n",
    "    print(f\"Failed to fetch HTML content. Status code: {response.status_code}\")\n",
    "\n",
    "# Print the first 500 characters of the HTML to verify\n",
    "print(\"First 500 characters of the HTML:\")\n",
    "print(response.text[:500])"
   ]
  },
  {
   "cell_type": "code",
   "execution_count": null,
   "id": "acc02dcc",
   "metadata": {},
   "outputs": [],
   "source": []
  }
 ],
 "metadata": {
  "kernelspec": {
   "display_name": "Python 3 (ipykernel)",
   "language": "python",
   "name": "python3"
  },
  "language_info": {
   "codemirror_mode": {
    "name": "ipython",
    "version": 3
   },
   "file_extension": ".py",
   "mimetype": "text/x-python",
   "name": "python",
   "nbconvert_exporter": "python",
   "pygments_lexer": "ipython3",
   "version": "3.9.13"
  }
 },
 "nbformat": 4,
 "nbformat_minor": 5
}
