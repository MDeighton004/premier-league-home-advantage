{
 "cells": [
  {
   "cell_type": "code",
   "execution_count": 7,
   "id": "1a0a20f6",
   "metadata": {},
   "outputs": [
    {
     "name": "stdout",
     "output_type": "stream",
     "text": [
      "Cleaning match data for 2018-2019\n",
      "Cleaning match data for 2019-2020\n",
      "Cleaning match data for 2020-2021\n",
      "Cleaning match data for 2021-2022\n",
      "Cleaning match data for 2022-2023\n",
      "Cleaning match data for 2023-2024\n",
      "Combined data saved to C:\\Users\\matth\\OneDrive\\Documents\\data_science_project\\premier-league-home-advantage\\data\\processed_data\\all_seasons_match_data.csv\n",
      "Match data cleaning and combining complete.\n"
     ]
    }
   ],
   "source": [
    "import pandas as pd\n",
    "import os\n",
    "\n",
    "# Define the directories for raw and processed data\n",
    "raw_data_dir = r\"C:\\Users\\matth\\OneDrive\\Documents\\data_science_project\\premier-league-home-advantage\\data\\raw_data\"\n",
    "processed_data_dir = r\"C:\\Users\\matth\\OneDrive\\Documents\\data_science_project\\premier-league-home-advantage\\data\\processed_data\"\n",
    "os.makedirs(processed_data_dir, exist_ok=True)\n",
    "\n",
    "# List of seasons\n",
    "seasons = [\"2018-2019\", \"2019-2020\", \"2020-2021\", \"2021-2022\", \"2022-2023\", \"2023-2024\"]\n",
    "\n",
    "def clean_match_data(season):\n",
    "    print(f\"Cleaning match data for {season}\")\n",
    "\n",
    "    # Construct the file path for the raw data\n",
    "    raw_file_path = os.path.join(raw_data_dir, f\"{season}.csv\")\n",
    "\n",
    "    # Load the CSV file, specifying the 'score' column as a string\n",
    "    try:\n",
    "        df = pd.read_csv(raw_file_path, encoding='utf-8', dtype={'score': str})\n",
    "    except FileNotFoundError:\n",
    "        print(f\"  File not found for {season}. Skipping.\")\n",
    "        return\n",
    "\n",
    "    # Remove Unnecessary Columns\n",
    "    columns_to_drop = ['match_report', 'notes', 'gameweek']\n",
    "    df = df.drop(columns=columns_to_drop, errors='ignore')\n",
    "\n",
    "    # Remove Blank Rows\n",
    "    df = df.dropna(how='all')\n",
    "\n",
    "    # Fix Score Formatting (Unicode replacement) and add prefix/spaces\n",
    "    df['score'] = df['score'].str.replace(u'\\u2013', ' - ', regex=False).apply(lambda x: f\"Score: {x}\")\n",
    "\n",
    "    # Convert Attendance to Numeric\n",
    "    if 'attendance' in df.columns:\n",
    "        df['attendance'] = df['attendance'].str.replace(',', '', regex=False)\n",
    "        df['attendance'] = pd.to_numeric(df['attendance'], errors='coerce')\n",
    "\n",
    "    return df\n",
    "\n",
    "# Clean data for all seasons and concatenate\n",
    "all_seasons_data = []\n",
    "for season in seasons:\n",
    "    cleaned_data = clean_match_data(season)\n",
    "    if cleaned_data is not None:\n",
    "        cleaned_data['season'] = season\n",
    "        all_seasons_data.append(cleaned_data)\n",
    "\n",
    "# Concatenate all seasons' data into a single DataFrame\n",
    "if all_seasons_data:\n",
    "    combined_df = pd.concat(all_seasons_data, ignore_index=True)\n",
    "\n",
    "    # Save the combined data to a single CSV file\n",
    "    combined_file_path = os.path.join(processed_data_dir, \"all_seasons_match_data.csv\")\n",
    "    combined_df.to_csv(combined_file_path, index=False)\n",
    "    print(f\"Combined data saved to {combined_file_path}\")\n",
    "else:\n",
    "    print(\"No data was cleaned.\")\n",
    "\n",
    "print(\"Match data cleaning and combining complete.\")"
   ]
  },
  {
   "cell_type": "code",
   "execution_count": null,
   "id": "051a2647",
   "metadata": {},
   "outputs": [],
   "source": []
  }
 ],
 "metadata": {
  "kernelspec": {
   "display_name": "Python 3 (ipykernel)",
   "language": "python",
   "name": "python3"
  },
  "language_info": {
   "codemirror_mode": {
    "name": "ipython",
    "version": 3
   },
   "file_extension": ".py",
   "mimetype": "text/x-python",
   "name": "python",
   "nbconvert_exporter": "python",
   "pygments_lexer": "ipython3",
   "version": "3.9.13"
  }
 },
 "nbformat": 4,
 "nbformat_minor": 5
}
